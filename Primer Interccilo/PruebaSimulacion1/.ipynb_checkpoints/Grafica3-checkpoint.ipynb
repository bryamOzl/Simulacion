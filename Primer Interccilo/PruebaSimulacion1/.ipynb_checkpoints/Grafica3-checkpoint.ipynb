{
 "cells": [
  {
   "cell_type": "code",
   "execution_count": 1,
   "id": "figured-clerk",
   "metadata": {},
   "outputs": [],
   "source": [
    "#importar las librerias necesarias\n",
    "import matplotlib.pyplot as plt\n",
    "import numpy as np\n",
    "import pandas as pd\n",
    "from datetime import timedelta, date"
   ]
  },
  {
   "cell_type": "code",
   "execution_count": 2,
   "id": "norman-simpson",
   "metadata": {},
   "outputs": [
    {
     "data": {
      "text/html": [
       "<div>\n",
       "<style scoped>\n",
       "    .dataframe tbody tr th:only-of-type {\n",
       "        vertical-align: middle;\n",
       "    }\n",
       "\n",
       "    .dataframe tbody tr th {\n",
       "        vertical-align: top;\n",
       "    }\n",
       "\n",
       "    .dataframe thead th {\n",
       "        text-align: right;\n",
       "    }\n",
       "</style>\n",
       "<table border=\"1\" class=\"dataframe\">\n",
       "  <thead>\n",
       "    <tr style=\"text-align: right;\">\n",
       "      <th></th>\n",
       "      <th>vaccine</th>\n",
       "      <th>total</th>\n",
       "      <th>arrived_at</th>\n",
       "    </tr>\n",
       "  </thead>\n",
       "  <tbody>\n",
       "    <tr>\n",
       "      <th>0</th>\n",
       "      <td>Pfizer/BioNTech</td>\n",
       "      <td>8190</td>\n",
       "      <td>20/01/2021</td>\n",
       "    </tr>\n",
       "    <tr>\n",
       "      <th>1</th>\n",
       "      <td>Pfizer/BioNTech</td>\n",
       "      <td>16380</td>\n",
       "      <td>17/02/2021</td>\n",
       "    </tr>\n",
       "    <tr>\n",
       "      <th>2</th>\n",
       "      <td>Pfizer/BioNTech</td>\n",
       "      <td>17550</td>\n",
       "      <td>24/02/2021</td>\n",
       "    </tr>\n",
       "    <tr>\n",
       "      <th>3</th>\n",
       "      <td>Pfizer/BioNTech</td>\n",
       "      <td>31590</td>\n",
       "      <td>03/03/2021</td>\n",
       "    </tr>\n",
       "    <tr>\n",
       "      <th>4</th>\n",
       "      <td>Sinovac</td>\n",
       "      <td>20000</td>\n",
       "      <td>06/03/2021</td>\n",
       "    </tr>\n",
       "  </tbody>\n",
       "</table>\n",
       "</div>"
      ],
      "text/plain": [
       "           vaccine  total  arrived_at\n",
       "0  Pfizer/BioNTech   8190  20/01/2021\n",
       "1  Pfizer/BioNTech  16380  17/02/2021\n",
       "2  Pfizer/BioNTech  17550  24/02/2021\n",
       "3  Pfizer/BioNTech  31590  03/03/2021\n",
       "4          Sinovac  20000  06/03/2021"
      ]
     },
     "execution_count": 2,
     "metadata": {},
     "output_type": "execute_result"
    }
   ],
   "source": [
    "#Trabajar con otro tipo de datos Fifa\n",
    "fabricante = pd.read_csv('fabricantes.csv')\n",
    "#imprimir los primeros 5 datos del archivo\n",
    "fabricante.head(5)"
   ]
  },
  {
   "cell_type": "code",
   "execution_count": 8,
   "id": "strong-traveler",
   "metadata": {
    "tags": [
     "parameters"
    ]
   },
   "outputs": [],
   "source": [
    "dinicial = 0\n",
    "minicial = 0\n",
    "dfinal = 0\n",
    "mfinal = 0"
   ]
  },
  {
   "cell_type": "code",
   "execution_count": 9,
   "id": "french-gazette",
   "metadata": {},
   "outputs": [
    {
     "data": {
      "image/png": "[encoded data removed]",
      "text/plain": [
       "<Figure size 432x288 with 1 Axes>"
      ]
     },
     "metadata": {
      "needs_background": "light"
     },
     "output_type": "display_data"
    },
    {
     "data": {
      "image/png": "[encoded data removed]",
      "text/plain": [
       "<Figure size 432x288 with 1 Axes>"
      ]
     },
     "metadata": {
      "needs_background": "light"
     },
     "output_type": "display_data"
    }
   ],
   "source": [
    "def daterange(start_date, end_date):\n",
    "    for n in range(int ((end_date - start_date).days)):\n",
    "        yield start_date + timedelta(n)\n",
    "        \n",
    "        \n",
    "rango1 = []\n",
    "contador=0\n",
    "\n",
    "#print(\"Ingrese el dia inicial\")\n",
    "#dinicial = input()\n",
    "#print(\"Ingrese el mes inicial\")\n",
    "#minicial = input()\n",
    "\n",
    "#print(\"Ingrese el dia final\")\n",
    "#dfinal = input()\n",
    "#print(\"Ingrese el mes final\")\n",
    "#mfinal = input()\n",
    "\n",
    "start_date = date(2021, minicial, dinicial)\n",
    "end_date = date(2021, mfinal, dfinal)\n",
    "\n",
    "\n",
    "\n",
    "listaD = [list(row) for row in fabricante.values]\n",
    "\n",
    "for l in listaD:\n",
    "    for single_date in daterange(start_date, end_date):\n",
    "        if l[2] == (single_date.strftime(\"%d/%m/%Y\")):\n",
    "            rango1.append(listaD[contador])\n",
    "    contador=contador+1\n",
    "    \n",
    "fechas1 = []\n",
    "total1 = []\n",
    "fechas2 = []\n",
    "total2 = []\n",
    "fechas3 = []\n",
    "total3 = []\n",
    "c1=0\n",
    "c2=0\n",
    "c3=0\n",
    "for i in rango1:\n",
    "    if (i[0]) == (\"Pfizer/BioNTech\"):\n",
    "        texto1=str(i[2])\n",
    "        fechas1.append(texto1)\n",
    "        texto2=str(i[1])\n",
    "        total1.append(texto2)\n",
    "        c1=c1+1\n",
    "    elif (i[0]) == (\"Sinovac\"):\n",
    "        texto1=str(i[2])\n",
    "        fechas2.append(texto1)\n",
    "        texto2=str(i[1])\n",
    "        total2.append(texto2)\n",
    "        c2=c2+1\n",
    "    elif (i[0]) == (\"Oxford/AstraZeneca\"):\n",
    "        texto1=str(i[2])\n",
    "        fechas3.append(texto1)\n",
    "        texto2=str(i[1])\n",
    "        total3.append(texto2)\n",
    "        c3=c3+1\n",
    "\n",
    "if c1>0:\n",
    "    plt.bar(range(c1), total1, edgecolor='green',color='#CDED58')\n",
    "    plt.xticks(range(c1), fechas1, rotation=60)\n",
    "    plt.title(\"Vacunas del Fabricante Pfizer/BioNTech\")\n",
    "    plt.show()\n",
    "\n",
    "if c2>0:\n",
    "    plt.bar(range(c2), total2, edgecolor='green',color='#86FCC9')\n",
    "    plt.xticks(range(c2), fechas2, rotation=60)\n",
    "    plt.title(\"Vacunas del Fabricante Sinovac\")\n",
    "    plt.show()\n",
    "\n",
    "if c3>0:\n",
    "    plt.bar(range(c3), total3, edgecolor='green',color='#86FCA6')\n",
    "    plt.xticks(range(c3), fechas3, rotation=60)\n",
    "    plt.title(\"Vacunas del Fabricante Oxford/AstraZeneca\")\n",
    "    plt.show()"
   ]
  },
  {
   "cell_type": "code",
   "execution_count": null,
   "id": "greatest-shakespeare",
   "metadata": {},
   "outputs": [],
   "source": []
  }
 ],
 "metadata": {
  "celltoolbar": "Tags",
  "kernelspec": {
   "display_name": "Python 3",
   "language": "python",
   "name": "python3"
  },
  "language_info": {
   "codemirror_mode": {
    "name": "ipython",
    "version": 3
   },
   "file_extension": ".py",
   "mimetype": "text/x-python",
   "name": "python",
   "nbconvert_exporter": "python",
   "pygments_lexer": "ipython3",
   "version": "3.8.8"
  }
 },
 "nbformat": 4,
 "nbformat_minor": 5
}
