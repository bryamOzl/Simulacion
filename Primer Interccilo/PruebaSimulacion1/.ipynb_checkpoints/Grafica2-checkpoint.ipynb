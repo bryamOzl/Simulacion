{
 "cells": [
  {
   "cell_type": "code",
   "execution_count": 17,
   "id": "increased-italian",
   "metadata": {},
   "outputs": [],
   "source": [
    "#importar las librerias necesarias\n",
    "import matplotlib.pyplot as plt\n",
    "import numpy as np\n",
    "import pandas as pd\n",
    "from datetime import timedelta, date"
   ]
  },
  {
   "cell_type": "code",
   "execution_count": 18,
   "id": "critical-looking",
   "metadata": {},
   "outputs": [
    {
     "data": {
      "text/html": [
       "<div>\n",
       "<style scoped>\n",
       "    .dataframe tbody tr th:only-of-type {\n",
       "        vertical-align: middle;\n",
       "    }\n",
       "\n",
       "    .dataframe tbody tr th {\n",
       "        vertical-align: top;\n",
       "    }\n",
       "\n",
       "    .dataframe thead th {\n",
       "        text-align: right;\n",
       "    }\n",
       "</style>\n",
       "<table border=\"1\" class=\"dataframe\">\n",
       "  <thead>\n",
       "    <tr style=\"text-align: right;\">\n",
       "      <th></th>\n",
       "      <th>vaccine</th>\n",
       "      <th>total</th>\n",
       "      <th>arrived_at</th>\n",
       "    </tr>\n",
       "  </thead>\n",
       "  <tbody>\n",
       "    <tr>\n",
       "      <th>0</th>\n",
       "      <td>Pfizer/BioNTech</td>\n",
       "      <td>8190</td>\n",
       "      <td>20/01/2021</td>\n",
       "    </tr>\n",
       "    <tr>\n",
       "      <th>1</th>\n",
       "      <td>Pfizer/BioNTech</td>\n",
       "      <td>16380</td>\n",
       "      <td>17/02/2021</td>\n",
       "    </tr>\n",
       "    <tr>\n",
       "      <th>2</th>\n",
       "      <td>Pfizer/BioNTech</td>\n",
       "      <td>17550</td>\n",
       "      <td>24/02/2021</td>\n",
       "    </tr>\n",
       "    <tr>\n",
       "      <th>3</th>\n",
       "      <td>Pfizer/BioNTech</td>\n",
       "      <td>31590</td>\n",
       "      <td>03/03/2021</td>\n",
       "    </tr>\n",
       "    <tr>\n",
       "      <th>4</th>\n",
       "      <td>Sinovac</td>\n",
       "      <td>20000</td>\n",
       "      <td>06/03/2021</td>\n",
       "    </tr>\n",
       "  </tbody>\n",
       "</table>\n",
       "</div>"
      ],
      "text/plain": [
       "           vaccine  total  arrived_at\n",
       "0  Pfizer/BioNTech   8190  20/01/2021\n",
       "1  Pfizer/BioNTech  16380  17/02/2021\n",
       "2  Pfizer/BioNTech  17550  24/02/2021\n",
       "3  Pfizer/BioNTech  31590  03/03/2021\n",
       "4          Sinovac  20000  06/03/2021"
      ]
     },
     "execution_count": 18,
     "metadata": {},
     "output_type": "execute_result"
    }
   ],
   "source": [
    "#Trabajar con otro tipo de datos Fifa\n",
    "fabricante = pd.read_csv('fabricantes.csv')\n",
    "#imprimir los primeros 5 datos del archivo\n",
    "fabricante.head(5)"
   ]
  },
  {
   "cell_type": "code",
   "execution_count": 56,
   "id": "possible-consultancy",
   "metadata": {
    "tags": [
     "parameters"
    ]
   },
   "outputs": [],
   "source": [
    "dinicial = 0\n",
    "minicial = 0\n",
    "dfinal = 0\n",
    "mfinal = 0"
   ]
  },
  {
   "cell_type": "code",
   "execution_count": 64,
   "id": "pressed-fever",
   "metadata": {},
   "outputs": [
    {
     "name": "stdout",
     "output_type": "stream",
     "text": [
      "Total de la vacuna Pfizer/BioNTech:  395460\n",
      "Total de la vacuna Sinovac:  320000\n",
      "Total de la vacuna Oxford/AstraZeneca:  84000\n"
     ]
    },
    {
     "data": {
      "image/png": "[encoded data removed]",
      "text/plain": [
       "<Figure size 720x504 with 1 Axes>"
      ]
     },
     "metadata": {},
     "output_type": "display_data"
    }
   ],
   "source": [
    "# Generar un grafico de cual es su pie diestro\n",
    "\n",
    "def daterange(start_date, end_date):\n",
    "    for n in range(int ((end_date - start_date).days)):\n",
    "        yield start_date + timedelta(n)\n",
    "        \n",
    "        \n",
    "rango1 = []\n",
    "contador=0\n",
    "\n",
    "#print(\"Ingrese el dia inicial\")\n",
    "#dinicial = input()\n",
    "#print(\"Ingrese el mes inicial\")\n",
    "#minicial = input()\n",
    "\n",
    "#print(\"Ingrese el dia final\")\n",
    "#dfinal = input()\n",
    "#print(\"Ingrese el mes final\")\n",
    "#mfinal = input()\n",
    "\n",
    "start_date = date(2021, minicial, dinicial)\n",
    "end_date = date(2021, mfinal, dfinal)\n",
    "\n",
    "\n",
    "\n",
    "listaD = [list(row) for row in fabricante.values]\n",
    "\n",
    "for l in listaD:\n",
    "    for single_date in daterange(start_date, end_date):\n",
    "        if l[2] == (single_date.strftime(\"%d/%m/%Y\")):\n",
    "            rango1.append(listaD[contador])\n",
    "    contador=contador+1\n",
    "    \n",
    "#vr1 = np.array(rango1)\n",
    "\n",
    "v1=0\n",
    "v2=0\n",
    "v3=0\n",
    "for i in rango1:\n",
    "    if (i[0]) == (\"Pfizer/BioNTech\"):\n",
    "        v1=v1+i[1]\n",
    "    elif (i[0]) == (\"Sinovac\"):\n",
    "        v2=v2+i[1]\n",
    "    elif (i[0]) == (\"Oxford/AstraZeneca\"):\n",
    "        v3=v3+i[1]\n",
    "\n",
    "print(\"Total de la vacuna Pfizer/BioNTech: \",v1)\n",
    "print(\"Total de la vacuna Sinovac: \",v2)\n",
    "print(\"Total de la vacuna Oxford/AstraZeneca: \",v3)\n",
    "\n",
    "        \n",
    "plt.figure(figsize=(10,7))\n",
    "\n",
    "#etiquetas = ['Pfizer/BioNTech.', 'Sinovac.', 'Oxford/AstraZeneca.']\n",
    "colores = ['#5FF5F3', '#70FFB8', '#F5EE6C']\n",
    "plt.pie([v1, v2, v3], colors=colores, autopct='%.2f %%')\n",
    "plt.title('Vacuna Por Fabricante')\n",
    "plt.legend(['Pfizer/BioNTech','Sinovac', 'Oxford/AstraZeneca'], loc='lower left')\n",
    "plt.show()"
   ]
  }
 ],
 "metadata": {
  "celltoolbar": "Tags",
  "kernelspec": {
   "display_name": "Python 3",
   "language": "python",
   "name": "python3"
  },
  "language_info": {
   "codemirror_mode": {
    "name": "ipython",
    "version": 3
   },
   "file_extension": ".py",
   "mimetype": "text/x-python",
   "name": "python",
   "nbconvert_exporter": "python",
   "pygments_lexer": "ipython3",
   "version": "3.8.8"
  }
 },
 "nbformat": 4,
 "nbformat_minor": 5
}
