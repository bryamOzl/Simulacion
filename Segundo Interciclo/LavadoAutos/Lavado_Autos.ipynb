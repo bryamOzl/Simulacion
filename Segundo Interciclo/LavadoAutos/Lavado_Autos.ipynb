{
 "cells": [
  {
   "cell_type": "code",
   "execution_count": 9,
   "id": "6f758348",
   "metadata": {},
   "outputs": [],
   "source": [
    "import random\n",
    "import simpy"
   ]
  },
  {
   "cell_type": "code",
   "execution_count": 10,
   "id": "4467b1d6",
   "metadata": {},
   "outputs": [],
   "source": [
    "RANDOM_SEED = 42\n",
    "NUM_MACHINES = 2  # Number de maquinas en la lavadora\n",
    "WASHTIME = 5      # Minutos en limpiar un carro\n",
    "T_INTER = 7       # Crea un coche cada ~ 7 minutos\n",
    "SIM_TIME = 20     # Tiempo de simulación en minutos"
   ]
  },
  {
   "cell_type": "code",
   "execution_count": 11,
   "id": "6936db15",
   "metadata": {},
   "outputs": [],
   "source": [
    "class Carwash(object):\n",
    "    #Un túnel de lavado tiene un número limitado de máquinas (` `NUM_MACHINES``) para\n",
    "    #Limpiar coches en paralelo.\n",
    "    #Los coches tienen que solicitar una de las máquinas. Cuando consiguieron uno, ellos\n",
    "    #puede iniciar los procesos de lavado y esperar a que finalice (que\n",
    "    #toma minutos de `` tiempo de lavado '').\n",
    "    \n",
    "    def __init__(self, env, num_machines, washtime):\n",
    "        self.env = env\n",
    "        self.machine = simpy.Resource(env, num_machines)\n",
    "        self.washtime = washtime\n",
    "\n",
    "    def wash(self, car):\n",
    "        #Los procesos de lavado. Se necesita un` `coche`` procesa y prueba para limpiarlo.\n",
    "        yield self.env.timeout(WASHTIME)\n",
    "        print(\"La lavadora elimino el %d%% de %s'rro.\" %\n",
    "              (random.randint(50, 99), car))\n",
    "\n",
    "\n",
    "def car(env, name, cw):\n",
    "    #El proceso del auto (cada auto tiene un` `nombre '') llega al lavado de autos\n",
    "    #(`` cw '') y solicita una máquina de limpieza.\n",
    "    #Luego inicia el proceso de lavado, espera a que termine y\n",
    "    #se va para no volver nunca ...\n",
    "    print('El %s llega a la lavadora a las %.2f.' % (name, env.now))\n",
    "    with cw.machine.request() as request:\n",
    "        yield request\n",
    "\n",
    "        print('El %s entra a la lavadora a las %.2f.' % (name, env.now))\n",
    "        yield env.process(cw.wash(name))\n",
    "\n",
    "        print('El %s sale del tunel de lavado a las %.2f.' % (name, env.now))\n",
    "\n",
    "\n",
    "def setup(env, num_machines, washtime, t_inter):\n",
    "    #Crea un lavado de autos, varios autos iniciales y sigue creando autos\n",
    "    #aprox. cada `` t_inter`` minutos.\n",
    "    # Creamos la lavadora\n",
    "    carwash = Carwash(env, num_machines, washtime)\n",
    "\n",
    "    # Creamos los carros iniciales\n",
    "    for i in range(4):\n",
    "        env.process(car(env, 'Carro %d' % i, carwash))\n",
    "\n",
    "    # Crea más coches mientras se ejecuta la simulación\n",
    "    while True:\n",
    "        yield env.timeout(random.randint(t_inter - 2, t_inter + 2))\n",
    "        i += 1\n",
    "        env.process(car(env, 'Carro %d' % i, carwash))"
   ]
  },
  {
   "cell_type": "code",
   "execution_count": 12,
   "id": "ea731e2a",
   "metadata": {},
   "outputs": [
    {
     "data": {
      "text/plain": [
       "<Process(setup) object at 0x266bdbf1e88>"
      ]
     },
     "execution_count": 12,
     "metadata": {},
     "output_type": "execute_result"
    }
   ],
   "source": [
    "# Configurar e iniciar la simulación\n",
    "\n",
    "random.seed(RANDOM_SEED)  \n",
    "env = simpy.Environment()\n",
    "env.process(setup(env, NUM_MACHINES, WASHTIME, T_INTER))"
   ]
  },
  {
   "cell_type": "code",
   "execution_count": 13,
   "id": "54f19c0b",
   "metadata": {},
   "outputs": [
    {
     "name": "stdout",
     "output_type": "stream",
     "text": [
      "Lavadora UPS\n",
      "El Carro 0 llega a la lavadora a las 0.00.\n",
      "El Carro 1 llega a la lavadora a las 0.00.\n",
      "El Carro 2 llega a la lavadora a las 0.00.\n",
      "El Carro 3 llega a la lavadora a las 0.00.\n",
      "El Carro 0 entra a la lavadora a las 0.00.\n",
      "El Carro 1 entra a la lavadora a las 0.00.\n",
      "El Carro 4 llega a la lavadora a las 5.00.\n",
      "La lavadora elimino el 97% de Carro 0'rro.\n",
      "La lavadora elimino el 67% de Carro 1'rro.\n",
      "El Carro 0 sale del tunel de lavado a las 5.00.\n",
      "El Carro 1 sale del tunel de lavado a las 5.00.\n",
      "El Carro 2 entra a la lavadora a las 5.00.\n",
      "El Carro 3 entra a la lavadora a las 5.00.\n",
      "El Carro 5 llega a la lavadora a las 10.00.\n",
      "La lavadora elimino el 64% de Carro 2'rro.\n",
      "La lavadora elimino el 58% de Carro 3'rro.\n",
      "El Carro 2 sale del tunel de lavado a las 10.00.\n",
      "El Carro 3 sale del tunel de lavado a las 10.00.\n",
      "El Carro 4 entra a la lavadora a las 10.00.\n",
      "El Carro 5 entra a la lavadora a las 10.00.\n",
      "La lavadora elimino el 97% de Carro 4'rro.\n",
      "La lavadora elimino el 56% de Carro 5'rro.\n",
      "El Carro 4 sale del tunel de lavado a las 15.00.\n",
      "El Carro 5 sale del tunel de lavado a las 15.00.\n",
      "El Carro 6 llega a la lavadora a las 16.00.\n",
      "El Carro 6 entra a la lavadora a las 16.00.\n"
     ]
    }
   ],
   "source": [
    "print('Lavadora UPS')\n",
    "env.run(until=SIM_TIME)"
   ]
  },
  {
   "cell_type": "code",
   "execution_count": null,
   "id": "aa4341fe",
   "metadata": {},
   "outputs": [],
   "source": []
  },
  {
   "cell_type": "code",
   "execution_count": null,
   "id": "0810213d",
   "metadata": {},
   "outputs": [],
   "source": []
  }
 ],
 "metadata": {
  "kernelspec": {
   "display_name": "Python 3",
   "language": "python",
   "name": "python3"
  },
  "language_info": {
   "codemirror_mode": {
    "name": "ipython",
    "version": 3
   },
   "file_extension": ".py",
   "mimetype": "text/x-python",
   "name": "python",
   "nbconvert_exporter": "python",
   "pygments_lexer": "ipython3",
   "version": "3.7.6"
  }
 },
 "nbformat": 4,
 "nbformat_minor": 5
}
